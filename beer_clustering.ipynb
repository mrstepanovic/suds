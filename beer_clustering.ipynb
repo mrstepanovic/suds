{
 "cells": [
  {
   "cell_type": "markdown",
   "metadata": {},
   "source": [
    "# So a Robot Walks into a Bar..."
   ]
  },
  {
   "cell_type": "markdown",
   "metadata": {},
   "source": [
    "## Beers Have Style\n",
    "Schwartzbier, real ale, wheat beer, Kölsch... many things can define a beer's style. In the professional brewing world, styles are typically differentiated by appearance, flavor, ingredients, production method, history, or origin. Unfortunately, not everyone agrees on how to categorize beer styles, and brewers often flip flop their beers between categories for competitions and distributors in different parts of the world. For instance, take a look at differences between CAMRA's Champion Beer of Britain, the Beer Judge Certification Program (BJCP), the Brewers Association's World Beer Cup). Furthermore, new styles are invented all the time as breweries try to differentiate their creations, and angsty beer geeks are given reason to wage sudsy wars in online forums. But even the most time-honored styles were once new (even lagers were invented less than 200 years ago). Our preferences both shape and are shaped by this long, organic process.\n",
    "\n",
    "Meanwhile, back at the brewery, a brewer is mindfully formulating and testing beer according to precise scientific standards. This precision ensures that a Sierra Nevada Pale Ale tastes just as good no matter when or where you drink it. The subjective qualities of beer styles are transformed. Color is identified according to the Standard Reference Method (SRM), bitterness is quantified on the scale of International Bitterness Units (IBUs), and a beer's capacity for danger and fun is measured by its alcohol content (percentage of alcohol by volume, or ABV). Many other metrics exist, but these are the big three. Give a Certified Cicerone (beer sommelier) these three pieces of information, and he or she could probably tell you its style without even tasting it."
   ]
  },
  {
   "cell_type": "markdown",
   "metadata": {},
   "source": [
    "## Beer by Numbers\n",
    "Robots are taking over the world, if you haven't noticed. Once they're fed the right data, they can make independent decisions. That got me thinking... if I fed a robot beer data and asked it to come up with its own style categories, what would it look like? Can styles be determined quantitatively, based on SRM, IBU, and ABV alone?"
   ]
  },
  {
   "cell_type": "markdown",
   "metadata": {},
   "source": [
    "## Feeding Robots Beer\n",
    "Data science gives us the tools to gather this beer data and feed it to a robot (i.e., a computer). Asking the computer to find a *structure* in a collection of unlabeled data perfectly describles an unsupervised machine learning problem. We'll provide a long list of beers' SRM, IBU, and ABV metrics, and see if the computer can differentiate different categories, or \"clusters\", of beer. To learn more about clustering, check out https://home.deib.polimi.it/matteucc/Clustering/tutorial_html/.\n",
    "\n",
    "### Data\n",
    "* BreweryDB API\n",
    "\n",
    "### Technology \n",
    "Python, pandas, matplotlib, scikit-learn\n",
    "\n",
    "### Method\n",
    "\n",
    "* N beers collected of M styles\n",
    "* Discuss EDA process\n",
    "* INSERT BARH CHART of value counts by style\n",
    "* INSERT 3 x 1 boxplots of SRM, IBU, and ABV\n",
    "* Discuss autocollinearity of OG and ABV and remove from analysis"
   ]
  },
  {
   "cell_type": "markdown",
   "metadata": {},
   "source": [
    "## Clustering\n",
    "* discuss k-means\n",
    "* show elbow plot or silhouette plots for determining ideal number of clusters\n",
    "* show k-means implementation with scikit-learn"
   ]
  },
  {
   "cell_type": "markdown",
   "metadata": {},
   "source": [
    "## Results\n",
    "* Show clusters colorized\n",
    "  * 3D space?\n",
    "* List styles in each cluster"
   ]
  },
  {
   "cell_type": "markdown",
   "metadata": {},
   "source": [
    "## Discussion\n",
    "* Robots don't see x, they see y\n",
    "* These results are fascinating, but they reveal that there's a profound human element to beer's role in the world.\n",
    "* Code available on Github"
   ]
  },
  {
   "cell_type": "markdown",
   "metadata": {},
   "source": [
    "## Post to Social Media"
   ]
  },
  {
   "cell_type": "code",
   "execution_count": null,
   "metadata": {
    "collapsed": true
   },
   "outputs": [],
   "source": []
  }
 ],
 "metadata": {
  "anaconda-cloud": {},
  "kernelspec": {
   "display_name": "Python 3",
   "language": "python",
   "name": "python3"
  },
  "language_info": {
   "codemirror_mode": {
    "name": "ipython",
    "version": 3
   },
   "file_extension": ".py",
   "mimetype": "text/x-python",
   "name": "python",
   "nbconvert_exporter": "python",
   "pygments_lexer": "ipython3",
   "version": "3.6.2"
  }
 },
 "nbformat": 4,
 "nbformat_minor": 1
}
