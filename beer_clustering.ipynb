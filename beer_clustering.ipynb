{
 "cells": [
  {
   "cell_type": "markdown",
   "metadata": {},
   "source": [
    "# So a Robot Walks into a Bar..."
   ]
  },
  {
   "cell_type": "markdown",
   "metadata": {},
   "source": [
    "## What's in a Style?\n",
    "* Beer styles are often categorized by qualities recognized over long periods of history, such as location, color, and technique\n",
    "  * Steam Beer\n",
    "  * Schwartzbier\n",
    "  * Berlinerweisse\n",
    "* However, beyond incredients and technique (recipes), brewers must track quantitative metrics to ensure consistency in what they make.\n",
    "  * Color becomes SRM\n",
    "  * Bitterness is measured in IBU\n",
    "  * Capacity for alcohol is measured by ABV\n",
    "  * Sugar and protein content is measured by OG"
   ]
  },
  {
   "cell_type": "markdown",
   "metadata": {},
   "source": [
    "## The question\n",
    "Can styles be determined quantitatively, based off of metrics such as SRM, IBU, and ABV alone? Set this up as a clustering problem."
   ]
  },
  {
   "cell_type": "markdown",
   "metadata": {},
   "source": [
    "## The Data and Tools\n",
    "* BreweryDB API, Python, pandas, matplotlib, scikit-learn\n",
    "* N beers collected of M styles\n",
    "* Discuss EDA process\n",
    "* INSERT BARH CHART of value counts by style\n",
    "* INSERT 3 x 1 boxplots of SRM, IBU, and ABV\n",
    "* Discuss autocollinearity of OG and ABV and remove from analysis"
   ]
  },
  {
   "cell_type": "markdown",
   "metadata": {},
   "source": [
    "## Clustering\n",
    "* discuss k-means\n",
    "* show elbow plot or silhouette plots for determining ideal number of clusters\n",
    "* show k-means implementation with scikit-learn"
   ]
  },
  {
   "cell_type": "markdown",
   "metadata": {},
   "source": [
    "## Results\n",
    "* Show clusters colorized\n",
    "  * 3D space?\n",
    "* List styles in each cluster"
   ]
  },
  {
   "cell_type": "markdown",
   "metadata": {},
   "source": [
    "## Discussion\n",
    "* Robots don't see x, they see y\n",
    "* These results are fascinating, but they reveal that there's a profound human element to beer's role in the world.\n",
    "* Code available on Github"
   ]
  },
  {
   "cell_type": "markdown",
   "metadata": {},
   "source": [
    "## Post to Social Media"
   ]
  },
  {
   "cell_type": "code",
   "execution_count": null,
   "metadata": {
    "collapsed": true
   },
   "outputs": [],
   "source": []
  }
 ],
 "metadata": {
  "anaconda-cloud": {},
  "kernelspec": {
   "display_name": "Python [conda env:anapy36]",
   "language": "python",
   "name": "conda-env-anapy36-py"
  },
  "language_info": {
   "codemirror_mode": {
    "name": "ipython",
    "version": 3
   },
   "file_extension": ".py",
   "mimetype": "text/x-python",
   "name": "python",
   "nbconvert_exporter": "python",
   "pygments_lexer": "ipython3",
   "version": "3.6.2"
  }
 },
 "nbformat": 4,
 "nbformat_minor": 1
}
